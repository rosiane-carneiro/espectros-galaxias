{
 "cells": [
  {
   "cell_type": "markdown",
   "id": "4f163a7b-2a86-420c-85f9-6a4426255c1f",
   "metadata": {},
   "source": [
    "Grafico de dispersao"
   ]
  },
  {
   "cell_type": "code",
   "execution_count": 1,
   "id": "14c9da7b-880b-4d4f-87e0-708b32cb6ac9",
   "metadata": {},
   "outputs": [],
   "source": [
    "import numpy as np\n",
    "import matplotlib.pyplot as plt\n",
    "import scipy.stats as stats\n",
    "from matplotlib import pyplot\n",
    "import pandas as pd\n",
    "from sklearn.linear_model import LinearRegression\n",
    "import statsmodels.api as sm"
   ]
  },
  {
   "cell_type": "code",
   "execution_count": 2,
   "id": "b6682db5-ebca-4e62-860e-5884daf56f46",
   "metadata": {},
   "outputs": [],
   "source": [
    "dados = np.loadtxt('agnXpahs.csv', skiprows=1, delimiter=';')"
   ]
  },
  {
   "cell_type": "code",
   "execution_count": 10,
   "id": "fbec67cd-bd33-4001-a9a6-6dc1d171832f",
   "metadata": {},
   "outputs": [],
   "source": [
    "#print(dados)"
   ]
  },
  {
   "cell_type": "code",
   "execution_count": 4,
   "id": "8aacb81e-3d50-41da-a421-b3a75cfb8dfd",
   "metadata": {},
   "outputs": [],
   "source": [
    "agn = dados[:,0]\n",
    "mto_pequena = dados[:,1]\n",
    "pequena = dados[:,2]\n",
    "media = dados[:,3]\n",
    "grande = dados[:,4]\n",
    "mto_grande = dados[:,5]"
   ]
  },
  {
   "cell_type": "code",
   "execution_count": 34,
   "id": "c19e9bab-c1a2-41e8-99ee-39e301156d2f",
   "metadata": {},
   "outputs": [
    {
     "data": {
      "image/png": "[encoded data removed]",
      "text/plain": [
       "<Figure size 576x432 with 1 Axes>"
      ]
     },
     "metadata": {
      "needs_background": "light"
     },
     "output_type": "display_data"
    }
   ],
   "source": [
    "fig = pyplot.figure(figsize=(8,6))\n",
    "pyplot.scatter(agn, mto_grande)\n",
    "pyplot.xlabel('agn')\n",
    "pyplot.ylabel('pah')\n",
    "\n",
    "pyplot.savefig('agn_pah_mto_grande.png', format='png')"
   ]
  },
  {
   "cell_type": "code",
   "execution_count": null,
   "id": "539efdd9-135d-448f-b5d3-0b60a9c75267",
   "metadata": {},
   "outputs": [],
   "source": []
  },
  {
   "cell_type": "code",
   "execution_count": 5,
   "id": "08b689fa-91e0-4f76-8b54-038d6e672ccc",
   "metadata": {},
   "outputs": [
    {
     "ename": "IndexError",
     "evalue": "only integers, slices (`:`), ellipsis (`...`), numpy.newaxis (`None`) and integer or boolean arrays are valid indices",
     "output_type": "error",
     "traceback": [
      "\u001b[1;31m---------------------------------------------------------------------------\u001b[0m",
      "\u001b[1;31mIndexError\u001b[0m                                Traceback (most recent call last)",
      "\u001b[1;32m~\\AppData\\Local\\Temp/ipykernel_12556/1213713811.py\u001b[0m in \u001b[0;36m<module>\u001b[1;34m\u001b[0m\n\u001b[0;32m      1\u001b[0m \u001b[0mplt\u001b[0m\u001b[1;33m.\u001b[0m\u001b[0mfigure\u001b[0m\u001b[1;33m(\u001b[0m\u001b[0mfigsize\u001b[0m \u001b[1;33m=\u001b[0m \u001b[1;33m(\u001b[0m\u001b[1;36m16\u001b[0m\u001b[1;33m,\u001b[0m\u001b[1;36m8\u001b[0m\u001b[1;33m)\u001b[0m\u001b[1;33m)\u001b[0m\u001b[1;33m\u001b[0m\u001b[1;33m\u001b[0m\u001b[0m\n\u001b[0;32m      2\u001b[0m plt.scatter(\n\u001b[1;32m----> 3\u001b[1;33m     \u001b[0mdados\u001b[0m\u001b[1;33m[\u001b[0m\u001b[1;34m'rAGN'\u001b[0m\u001b[1;33m]\u001b[0m\u001b[1;33m,\u001b[0m\u001b[1;33m\u001b[0m\u001b[1;33m\u001b[0m\u001b[0m\n\u001b[0m\u001b[0;32m      4\u001b[0m     \u001b[0mdados\u001b[0m\u001b[1;33m[\u001b[0m\u001b[1;34m'maior_300'\u001b[0m\u001b[1;33m]\u001b[0m\u001b[1;33m,\u001b[0m\u001b[1;33m\u001b[0m\u001b[1;33m\u001b[0m\u001b[0m\n\u001b[0;32m      5\u001b[0m     c='red')\n",
      "\u001b[1;31mIndexError\u001b[0m: only integers, slices (`:`), ellipsis (`...`), numpy.newaxis (`None`) and integer or boolean arrays are valid indices"
     ]
    },
    {
     "data": {
      "text/plain": [
       "<Figure size 1152x576 with 0 Axes>"
      ]
     },
     "metadata": {},
     "output_type": "display_data"
    }
   ],
   "source": [
    "plt.figure(figsize = (16,8))\n",
    "plt.scatter(\n",
    "    dados['rAGN'], \n",
    "    dados['maior_300'], \n",
    "    c='red')\n",
    "plt.xlabel(\" ($) Galaxia\")\n",
    "plt.ylabel(\" ($) tamanho\")\n",
    "plt.show()"
   ]
  },
  {
   "cell_type": "code",
   "execution_count": 12,
   "id": "a51accd4-0009-40d1-9c8e-635a8fa723df",
   "metadata": {},
   "outputs": [],
   "source": []
  },
  {
   "cell_type": "code",
   "execution_count": null,
   "id": "aa3c199c-17e3-4a0d-a26f-a60f87f0d38a",
   "metadata": {},
   "outputs": [],
   "source": []
  },
  {
   "cell_type": "code",
   "execution_count": null,
   "id": "b668aee7-c278-42c6-af6e-5989f4bc652e",
   "metadata": {},
   "outputs": [],
   "source": []
  },
  {
   "cell_type": "code",
   "execution_count": null,
   "id": "0a69d2f0-52dd-40a1-b180-6e8da319e414",
   "metadata": {},
   "outputs": [],
   "source": []
  },
  {
   "cell_type": "code",
   "execution_count": 29,
   "id": "6e89c932-7ad5-4832-a5e9-9670e11f878e",
   "metadata": {},
   "outputs": [],
   "source": [
    "dados2 = np.loadtxt('silXew6.2.csv', skiprows=1, delimiter=';')"
   ]
  },
  {
   "cell_type": "code",
   "execution_count": 30,
   "id": "1e4444c2-669f-48aa-9c41-db43af74f061",
   "metadata": {},
   "outputs": [],
   "source": [
    "ssil = dados2[:,0]\n",
    "ew62 = dados2[:,1]"
   ]
  },
  {
   "cell_type": "code",
   "execution_count": 35,
   "id": "26894312-e372-4709-ae21-34ea759d43f6",
   "metadata": {},
   "outputs": [
    {
     "data": {
      "image/png": "[encoded data removed]",
      "text/plain": [
       "<Figure size 576x432 with 1 Axes>"
      ]
     },
     "metadata": {
      "needs_background": "light"
     },
     "output_type": "display_data"
    }
   ],
   "source": [
    "fig = pyplot.figure(figsize=(8,6))\n",
    "pyplot.scatter(ew62, ssil)\n",
    "pyplot.xlabel('ew62')\n",
    "pyplot.ylabel('ssil')\n",
    "\n",
    "pyplot.savefig('ew62_ssil.png', format='png')"
   ]
  },
  {
   "cell_type": "code",
   "execution_count": null,
   "id": "84bbad6a-4188-4406-984f-bda8ffd6989f",
   "metadata": {},
   "outputs": [],
   "source": []
  }
 ],
 "metadata": {
  "kernelspec": {
   "display_name": "Python 3 (ipykernel)",
   "language": "python",
   "name": "python3"
  },
  "language_info": {
   "codemirror_mode": {
    "name": "ipython",
    "version": 3
   },
   "file_extension": ".py",
   "mimetype": "text/x-python",
   "name": "python",
   "nbconvert_exporter": "python",
   "pygments_lexer": "ipython3",
   "version": "3.10.6"
  }
 },
 "nbformat": 4,
 "nbformat_minor": 5
}
